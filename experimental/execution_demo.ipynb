{
 "cells": [
  {
   "cell_type": "code",
   "execution_count": null,
   "id": "0e720130-b5b6-4d64-9ceb-170c1bcec159",
   "metadata": {},
   "outputs": [
    {
     "name": "stderr",
     "output_type": "stream",
     "text": [
      "Total VRAM 4032 MB, total RAM 7620 MB\n",
      "pytorch version: 2.3.1+cu121\n",
      "Set vram state to: NORMAL_VRAM\n",
      "Device: cuda:0 NVIDIA GeForce GTX 1050 Ti : native\n",
      "/home/leonard/Projects/Machine Learning/playground/ComfyUI/venv/lib/python3.12/site-packages/tqdm/auto.py:21: TqdmWarning: IProgress not found. Please update jupyter and ipywidgets. See https://ipywidgets.readthedocs.io/en/stable/user_install.html\n",
      "  from .autonotebook import tqdm as notebook_tqdm\n"
     ]
    },
    {
     "data": {
      "text/plain": [
       "<module 'execution' from '/home/leonard/Projects/Machine Learning/playground/ComfyUI/experimental/../execution.py'>"
      ]
     },
     "execution_count": 1,
     "metadata": {},
     "output_type": "execute_result"
    }
   ],
   "source": [
    "# %%\n",
    "\n",
    "import sys\n",
    "sys.path.append(\"../\")\n",
    "\n",
    "import json\n",
    "from pprint import pprint\n",
    "\n",
    "import importlib\n",
    "import execution\n",
    "importlib.reload(execution)"
   ]
  },
  {
   "cell_type": "code",
   "execution_count": null,
   "id": "0276b267-c911-4385-b6fe-c83cefaf642d",
   "metadata": {},
   "outputs": [
    {
     "name": "stdout",
     "output_type": "stream",
     "text": [
      "{'1': {'class_type': 'Input', 'inputs': {'user_message': 'Who is Elon Musk?'}},\n",
      " '2': {'class_type': 'Search',\n",
      "       'inputs': {'query': ['1', 0], 'tool_name': 'wikipedia_search'}},\n",
      " '3': {'class_type': 'Response',\n",
      "       'inputs': {'model_name': 'claude-3-haiku-20240307',\n",
      "                  'nodes': ['2', 0],\n",
      "                  'system_prompt': 'You are an agent designed to summarize the '\n",
      "                                   'given context'}}}\n"
     ]
    }
   ],
   "source": [
    "# %%\n",
    "\n",
    "prompt = json.load(open(\"../prompt.json\", \"r\"))\n",
    "pprint(prompt)"
   ]
  },
  {
   "cell_type": "code",
   "execution_count": null,
   "id": "9eb89fab-e7ae-436c-8559-6c805fe77cdf",
   "metadata": {},
   "outputs": [
    {
     "name": "stderr",
     "output_type": "stream",
     "text": [
      "2024-07-08 22:47:25 execution[59920] INFO Class\n",
      "2024-07-08 22:47:25 execution[59920] INFO Response\n",
      "2024-07-08 22:47:25 execution[59920] INFO Input data\n",
      "2024-07-08 22:47:25 execution[59920] INFO ['2', 0]\n",
      "2024-07-08 22:47:25 execution[59920] INFO Class\n",
      "2024-07-08 22:47:25 execution[59920] INFO Search\n",
      "2024-07-08 22:47:25 execution[59920] INFO Input data\n",
      "2024-07-08 22:47:25 execution[59920] INFO Response\n",
      "2024-07-08 22:47:25 execution[59920] INFO Input data\n",
      "2024-07-08 22:47:25 execution[59920] INFO ['2', 0]\n",
      "2024-07-08 22:47:25 execution[59920] INFO Class\n",
      "2024-07-08 22:47:25 execution[59920] INFO Search\n",
      "2024-07-08 22:47:25 execution[59920] INFO Input data\n",
      "2024-07-08 22:47:25 execution[59920] INFO ['1', 0]\n",
      "2024-07-08 22:47:25 execution[59920] INFO Class\n",
      "2024-07-08 22:47:25 execution[59920] INFO Input\n",
      "2024-07-08 22:47:25 execution[59920] INFO Inputs:\n",
      "2024-07-08 22:47:25 execution[59920] INFO {}\n",
      "2024-07-08 22:47:25 execution[59920] INFO Input class\n",
      "2024-07-08 22:47:25 execution[59920] INFO Input\n",
      "2024-07-08 22:47:25 execution[59920] INFO Input node inputs\n",
      "2024-07-08 22:47:25 execution[59920] INFO ['user_message']\n",
      "2024-07-08 22:47:25 execution[59920] INFO Inputs:\n",
      "2024-07-08 22:47:25 execution[59920] INFO {'query': ['1', 0]}\n",
      "2024-07-08 22:47:25 execution[59920] INFO Key:\n",
      "2024-07-08 22:47:25 execution[59920] INFO Input\n",
      "2024-07-08 22:47:25 execution[59920] INFO user_message\n",
      "2024-07-08 22:47:25 execution[59920] INFO Search\n",
      "2024-07-08 22:47:25 execution[59920] INFO query\n",
      "2024-07-08 22:47:25 execution[59920] INFO Input class\n",
      "2024-07-08 22:47:25 execution[59920] INFO Search\n",
      "2024-07-08 22:47:25 execution[59920] INFO Input node inputs\n",
      "2024-07-08 22:47:25 execution[59920] INFO ['nodes']\n",
      "2024-07-08 22:47:25 execution[59920] INFO Inputs:\n",
      "2024-07-08 22:47:25 execution[59920] INFO {'nodes': ['2', 0]}\n",
      "2024-07-08 22:47:26 execution[59920] INFO Key:\n",
      "2024-07-08 22:47:26 execution[59920] INFO Search\n",
      "2024-07-08 22:47:26 execution[59920] INFO nodes\n",
      "2024-07-08 22:47:26 execution[59920] INFO Response\n",
      "2024-07-08 22:47:26 execution[59920] INFO nodes\n"
     ]
    }
   ],
   "source": [
    "# %%\n",
    "\n",
    "pipeline, _, root_inputs, leaf_inputs = execution.recursive_add_node_link(None, prompt, '3')"
   ]
  },
  {
   "cell_type": "code",
   "execution_count": null,
   "id": "8114b3f1-cca6-4ded-a864-6abad3189a09",
   "metadata": {},
   "outputs": [
    {
     "name": "stdout",
     "output_type": "stream",
     "text": [
      "\u001b[1;3;38;2;155;135;227m> Running module Input with input: \n",
      "user_message: Who is Elon Musk?\n",
      "\n",
      "\u001b[0m\u001b[1;3;38;2;155;135;227m> Running module Search with input: \n",
      "query: Who is Elon Musk?\n",
      "\n",
      "\u001b[0m"
     ]
    },
    {
     "name": "stderr",
     "output_type": "stream",
     "text": [
      "2024-07-08 22:47:27 httpx[59920] INFO HTTP Request: POST https://api.anthropic.com/v1/messages \"HTTP/1.1 200 OK\"\n",
      "2024-07-08 22:47:27 tools.api.wikipedia_search[59920] INFO Search results:\n",
      "2024-07-08 22:47:27 tools.api.wikipedia_search[59920] INFO OpenAI, Twitter under Elon Musk, Twitter, Twitter Files, Timeline of artificial intelligence, Timeline of computing 2020–present, Starlink, Social media use by Donald Trump, Gemini (chatbot), Larry Page\n",
      "2024-07-08 22:47:39 httpx[59920] INFO HTTP Request: POST https://api.openai.com/v1/embeddings \"HTTP/1.1 200 OK\"\n",
      "2024-07-08 22:47:41 httpx[59920] INFO HTTP Request: POST https://api.openai.com/v1/embeddings \"HTTP/1.1 200 OK\"\n",
      "2024-07-08 22:47:41 llama_index.core.retrievers.auto_merging_retriever[59920] INFO > Merging 4 nodes into parent node.\n",
      "> Parent node id: 8f80fb10-b4d4-40c8-b5e0-9e77dcde6fb4.\n",
      "> Parent node text: Elon Musk completed his acquisition of Twitter in October 2022; Musk acted as CEO of Twitter unti...\n",
      "\n",
      "2024-07-08 22:47:41 llama_index.core.retrievers.auto_merging_retriever[59920] INFO > Merging 1 nodes into parent node.\n",
      "> Parent node id: 98ab5846-359c-499a-8be7-801fc2f36321.\n",
      "> Parent node text: Elon Musk completed his acquisition of Twitter in October 2022; Musk acted as CEO of Twitter unti...\n",
      "\n"
     ]
    },
    {
     "name": "stdout",
     "output_type": "stream",
     "text": [
      "> Merging 4 nodes into parent node.\n",
      "> Parent node id: 8f80fb10-b4d4-40c8-b5e0-9e77dcde6fb4.\n",
      "> Parent node text: Elon Musk completed his acquisition of Twitter in October 2022; Musk acted as CEO of Twitter unti...\n",
      "\n",
      "> Merging 1 nodes into parent node.\n",
      "> Parent node id: 98ab5846-359c-499a-8be7-801fc2f36321.\n",
      "> Parent node text: Elon Musk completed his acquisition of Twitter in October 2022; Musk acted as CEO of Twitter unti...\n",
      "\n",
      "\u001b[1;3;38;2;155;135;227m> Running module Response with input: \n",
      "nodes: [NodeWithScore(node=TextNode(id_='cf82384d-21ce-4444-8816-ea4ef5776c07', embedding=None, metadata={'Link': 'https://en.wikipedia.org/wiki/Twitter_Files'}, excluded_embed_metadata_keys=['Link'], exclud...\n",
      "\n",
      "\u001b[0m"
     ]
    },
    {
     "name": "stderr",
     "output_type": "stream",
     "text": [
      "2024-07-08 22:47:43 httpx[59920] INFO HTTP Request: POST https://api.anthropic.com/v1/messages \"HTTP/1.1 200 OK\"\n"
     ]
    }
   ],
   "source": [
    "# %%\n",
    "\n",
    "input_kwargs = list(root_inputs.values())[0]\n",
    "response = pipeline.run(**input_kwargs)"
   ]
  },
  {
   "cell_type": "code",
   "execution_count": null,
   "id": "fc7b2cff-38d7-4d6c-8c08-ab80d060f008",
   "metadata": {},
   "outputs": [
    {
     "name": "stdout",
     "output_type": "stream",
     "text": [
      "Here is a summary of the key points from the provided context:\n",
      "\n",
      "The Twitter Files refer to a series of releases of internal Twitter documents published from December 2022 to March 2023. These documents were given to select journalists by Elon Musk, who acquired Twitter in October 2022.\n",
      "\n",
      "After acquiring Twitter, Musk rebranded the platform as \"X\" and served as CEO until June 2023, when he was succeeded by Linda Yaccarino. X closely resembles the original Twitter but has added new features like long-form texts, account monetization, audio-video calls, and integration with an AI chatbot.\n",
      "\n",
      "However, X has faced significant controversy since the rebranding. Issues include the release of the Twitter Files, suspension of journalists' accounts, labeling of media outlets, and ongoing challenges with misinformation, hate speech, and antisemitism. X Corp. has taken legal action against some organizations in response to these allegations.\n",
      "\n",
      "Overall, the context describes the transition of Twitter to X under Elon Musk's leadership, the release of the Twitter Files, and the controversies that have surrounded the platform's rebranding and operations.\n"
     ]
    }
   ],
   "source": [
    "# %%    \n",
    "\n",
    "print(response.message.content)"
   ]
  }
 ],
 "metadata": {
  "language_info": {
   "codemirror_mode": {
    "name": "ipython",
    "version": 3
   },
   "file_extension": ".py",
   "mimetype": "text/x-python",
   "name": "python",
   "nbconvert_exporter": "python",
   "pygments_lexer": "ipython3",
   "version": 3
  }
 },
 "nbformat": 4,
 "nbformat_minor": 2
}
